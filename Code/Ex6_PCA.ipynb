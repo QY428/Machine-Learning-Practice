{
  "cells": [
    {
      "cell_type": "markdown",
      "metadata": {
        "id": "view-in-github",
        "colab_type": "text"
      },
      "source": [
        "<a href=\"https://colab.research.google.com/github/QY428/Machine-Learning-Practice/blob/main/Exercise6_PCA.ipynb\" target=\"_parent\"><img src=\"https://colab.research.google.com/assets/colab-badge.svg\" alt=\"Open In Colab\"/></a>"
      ]
    },
    {
      "cell_type": "code",
      "execution_count": null,
      "metadata": {
        "colab": {
          "base_uri": "https://localhost:8080/",
          "height": 800
        },
        "id": "IUWVzvbLXG7P",
        "outputId": "eca1d96d-8b4b-4836-db78-0aab258b7caf"
      },
      "outputs": [
        {
          "output_type": "stream",
          "name": "stdout",
          "text": [
            "<bound method NDFrame.head of       1yr  2yr  3yr  5yr  7yr  10yr  20yr  30yr\n",
            "0      -4   -8   -9   -9   -8    -8    -6    -6\n",
            "1      -1    0    3    4    5     8     9    11\n",
            "2       0    2    2    2    0     0    -1    -1\n",
            "3      -3   -7   -6   -5   -2    -2    -1     1\n",
            "4      -2   -1   -1    1    1     2     3     4\n",
            "...   ...  ...  ...  ...  ...   ...   ...   ...\n",
            "2626    0    0    0    2    1     1     1     2\n",
            "2627   -1    0    0   -2   -3    -4    -6    -7\n",
            "2628    0    0    0    1    1     2     1     1\n",
            "2629    0    0   -1   -2   -3    -5    -7    -7\n",
            "2630    0    0    1    2    3     3     3     1\n",
            "\n",
            "[2631 rows x 8 columns]>\n",
            "PCA: [[ 0.08262571  0.21042337  0.28594527  0.38627686  0.42958101  0.42762798\n",
            "   0.42641202  0.41071614]\n",
            " [-0.24185701 -0.46488362 -0.46677507 -0.31502393 -0.09915402  0.11929196\n",
            "   0.39409966  0.47842735]\n",
            " [-0.68475517 -0.37617188 -0.00619947  0.33186479  0.34941903  0.15269487\n",
            "  -0.1720554  -0.32314077]\n",
            " [-0.68167844  0.57375095  0.18458908 -0.14486959 -0.26487738 -0.17163599\n",
            "   0.09866801  0.20422955]\n",
            " [-0.00606623 -0.51744891  0.72769651  0.06064683 -0.26639478 -0.26930074\n",
            "   0.02658113  0.2340811 ]\n",
            " [ 0.02493728  0.03086968 -0.34654863  0.60436628  0.00793947 -0.51530206\n",
            "  -0.24396219  0.43353644]\n",
            " [-0.02066629  0.01149691  0.10568495 -0.34760079  0.26336627  0.25438138\n",
            "  -0.721867    0.46074012]\n",
            " [-0.00415647 -0.00844453 -0.07373811  0.36147714 -0.68773828  0.58937265\n",
            "  -0.20543547  0.03550479]]\n"
          ]
        },
        {
          "output_type": "display_data",
          "data": {
            "text/plain": [
              "<Figure size 432x288 with 1 Axes>"
            ],
            "image/png": "[encoded data removed]"
          },
          "metadata": {
            "needs_background": "light"
          }
        }
      ],
      "source": [
        "# Load Package\n",
        "import numpy as np\n",
        "from scipy.stats import norm\n",
        "import random\n",
        "import matplotlib.pyplot as plt\n",
        "import numpy as np\n",
        "import pandas as pd\n",
        "\n",
        "from sklearn.preprocessing import StandardScaler\n",
        "from sklearn.decomposition import PCA\n",
        "\n",
        "from sklearn.model_selection import train_test_split\n",
        "from sklearn.linear_model import LinearRegression\n",
        "from sklearn.metrics import mean_squared_error\n",
        "from sklearn.preprocessing import StandardScaler\n",
        "\n",
        "from tensorflow import keras\n",
        "from tensorflow.keras.layers import Input, Dense, Layer, InputSpec,LeakyReLU\n",
        "from tensorflow.keras.models import Model, load_model\n",
        "import tensorflow as tf\n",
        "\n",
        "import sklearn.preprocessing\n",
        "from numpy.random import seed\n",
        "seed(100)\n",
        "\n",
        "\n",
        "import matplotlib.pyplot as plt\n",
        "from IPython.display import clear_output\n",
        "#Load Treasury Data and Caculate DoD Change\n",
        "# Load Data\n",
        "raw_data = pd.read_csv(\"TreasuryData.csv\")\n",
        "print(raw_data.head)\n",
        "\n",
        "\n",
        "\n",
        "# Run PCA. (Results are the same as those from Excel PCA implementation)\n",
        "\n",
        "pca = PCA(n_components=8)\n",
        "pca.fit(raw_data)\n",
        "plt.plot(np.cumsum(pca.explained_variance_ratio_))\n",
        "plt.xlabel('Number of components')\n",
        "plt.ylabel('Cumulative explained variance')\n",
        "\n",
        "\n",
        "X_pca_train = pca.transform(raw_data)\n",
        "#pd.DataFrame(pca.components_).to_excel(\"PCA.xlsx\")\n",
        "X_recovered_train = pca.inverse_transform(X_pca_train)\n",
        "print(\"PCA:\",pca.components_)\n"
      ]
    },
    {
      "cell_type": "raw",
      "metadata": {
        "id": "zHD1iGlpXG7V"
      },
      "source": []
    },
    {
      "cell_type": "code",
      "execution_count": null,
      "metadata": {
        "colab": {
          "base_uri": "https://localhost:8080/"
        },
        "id": "cFsUtoVCXG7W",
        "outputId": "c887153e-7fcd-40be-ab2f-0749892b4a38"
      },
      "outputs": [
        {
          "output_type": "stream",
          "name": "stdout",
          "text": [
            "Neural network mean squared error: 0.7978187799453735\n"
          ]
        }
      ],
      "source": [
        "# The mean squared error for PCA is 0.8399\n",
        "# We now try and improve on PCA using an autoecoder where there are two latent variables\n",
        "# The are two hidden layers between inputs and latent variables (with 6 and 4 neurons) \n",
        "# and two hidden layers (with 4 and 6 neurons) between the latent variable and output\n",
        "# Activation function is leaky Relu withan alpha parameter of 0.7.\n",
        "\n",
        "# Set up layers with 6, 4 and 2 neurons for encoder\n",
        "treas_encoder = keras.models.Sequential([\n",
        "    Dense(6,input_shape=[len(raw_data.columns)],activation=LeakyReLU(alpha=0.7)),\n",
        "    Dense(4,input_shape=[6],activation=LeakyReLU(alpha=0.7)),\n",
        "    Dense(4,input_shape=[4],activation=LeakyReLU(alpha=0.7)),\n",
        "    Dense(2,input_shape=[4],activation=LeakyReLU(alpha=0.7))])\n",
        "\n",
        "# Set up layers with 4, 6, and 8 neurons for decoder\n",
        "treas_decoder = keras.models.Sequential([\n",
        "    Dense(4,input_shape=[2],activation=LeakyReLU(alpha=0.7)),\n",
        "    Dense(4,input_shape=[4],activation=LeakyReLU(alpha=0.7)),\n",
        "    Dense(6,input_shape=[4],activation=LeakyReLU(alpha=0.7)),\n",
        "    Dense(8,input_shape=[6],activation=LeakyReLU(alpha=0.7))])\n",
        "\n",
        "# Set up autoencoder \n",
        "treas_autoencoder = keras.models.Sequential([treas_encoder,treas_decoder])\n",
        "treas_autoencoder.compile(loss = \"mse\", optimizer = \"adam\")\n",
        "\n",
        "# Checkpoint function is used here to periodically save a copy of the model. \n",
        "# Currently it is set to save the best performing model\n",
        "checkpoint_cb = keras.callbacks.ModelCheckpoint(\"treas_autoencoder_leakyrelu_multi_layer_vFinal_v2.h5\",save_best_only = True, monitor='loss')\n",
        "\n",
        "# Early stopping stopsr training early if no improvment is shown after a number of epochs equal to patience \n",
        "#  The model then reverts back to the best weights\n",
        "early_stopping_cb = keras.callbacks.EarlyStopping(monitor='loss',patience = 500,restore_best_weights = True,verbose=1)\n",
        "\n",
        "\n",
        "# Epochs specifies the maximum number of epochs\n",
        "treas_history = treas_autoencoder.fit(raw_data,raw_data,epochs = 5000, callbacks=[checkpoint_cb,early_stopping_cb], verbose=0)\n",
        "treas_autoencoder = keras.models.load_model(\"treas_autoencoder_leakyrelu_multi_layer_vFinal_v2.h5\",custom_objects={'LeakyReLU': LeakyReLU(alpha=0.7)})\n",
        "mse_test = treas_autoencoder.evaluate(raw_data,raw_data,verbose=0)\n",
        "print('Neural network mean squared error:', mse_test)\n"
      ]
    },
    {
      "cell_type": "markdown",
      "source": [
        "# Results\n",
        "## Original mse by using PCA \n",
        "The mean squared error for PCA is **0.8399**\n",
        "\n",
        "## Keep epochs at 5000\n",
        "### 1. Leaky Relu with alpha = 0.7\n",
        "\n",
        "  Restoring model weights from the end of the best epoch: 2744.\n",
        "\n",
        "  Epoch 3244: early stopping\n",
        "\n",
        "  Neural network mean squared error: 0.8020686507225037\n",
        "\n",
        "### 2. Leaky Relu with alpha = 0.1\n",
        "Neural network mean squared error: 0.8273520469665527\n",
        "\n",
        "### 3. Leaky Relu with alpha = 0.5\n",
        "Restoring model weights from the end of the best epoch: 3207.\n",
        "\n",
        "Epoch 3707: early stopping\n",
        "\n",
        "Neural network mean squared error: 0.80649334192276\n",
        "\n",
        "### 4. Encoder adds a layer of Dense. Decoder adds a layer of Dense. (Leaky Relu with alpha = 0.7)\n",
        "\n",
        "Neural network mean squared error: 0.7978187799453735\n",
        "\n",
        "\n",
        "```\n",
        "# Set up layers with 6, 4 and 2 neurons for encoder\n",
        "treas_encoder = keras.models.Sequential([\n",
        "    Dense(6,input_shape=[len(raw_data.columns)],activation=LeakyReLU(alpha=0.7)),\n",
        "    Dense(4,input_shape=[6],activation=LeakyReLU(alpha=0.7)),\n",
        "    Dense(4,input_shape=[4],activation=LeakyReLU(alpha=0.7)),\n",
        "    Dense(2,input_shape=[4],activation=LeakyReLU(alpha=0.7))])\n",
        "\n",
        "# Set up layers with 4, 6, and 8 neurons for decoder\n",
        "treas_decoder = keras.models.Sequential([\n",
        "    Dense(4,input_shape=[2],activation=LeakyReLU(alpha=0.7)),\n",
        "    Dense(4,input_shape=[4],activation=LeakyReLU(alpha=0.7)),\n",
        "    Dense(6,input_shape=[4],activation=LeakyReLU(alpha=0.7)),\n",
        "    Dense(8,input_shape=[6],activation=LeakyReLU(alpha=0.7))])\n",
        "```\n",
        "\n",
        "\n",
        "\n",
        "\n"
      ],
      "metadata": {
        "id": "9LvQc7n0cqUn"
      }
    },
    {
      "cell_type": "markdown",
      "source": [
        "# Conclusion\n",
        "\n",
        "1. The original MSE of PCA is 0.8399.\n",
        "\n",
        "2. Keeping the Epochs unchanged, the MSE values ​​of the three models that change the LeakyRelu alpha are 0.802, 0.827, and 0.806, respectively. The best of these is the model with an alpha of 0.7.\n",
        "\n",
        "3. Keep epochs unchanged and alpha to 0.7. But add a layer of Dense to the steps of encoder and decoder respectively. The MSE of the model is 0.798. This is the current best model.\n",
        "\n",
        "0.8399 > 0.827 > 0.806 > 0.802 > 0.798\n",
        "\n",
        "By comparing the MSE after changing the parameters several times above, we can see that the results of PCA obtained by autoencoder are generally better than those obtained directly by PCA in sklearn. Therefore, in this question and in the future involving PCA operations, if you want to get better results, you can consider using the autoencoder model for PCA operations, and you can appropriately increase the number of layers of Encoder and Decoder to obtain better results."
      ],
      "metadata": {
        "id": "Ft4wgnJq90RI"
      }
    },
    {
      "cell_type": "code",
      "execution_count": null,
      "metadata": {
        "id": "Q6FCNZGLXG7Y"
      },
      "outputs": [],
      "source": []
    }
  ],
  "metadata": {
    "kernelspec": {
      "display_name": "Python 3",
      "language": "python",
      "name": "python3"
    },
    "language_info": {
      "codemirror_mode": {
        "name": "ipython",
        "version": 3
      },
      "file_extension": ".py",
      "mimetype": "text/x-python",
      "name": "python",
      "nbconvert_exporter": "python",
      "pygments_lexer": "ipython3",
      "version": "3.7.6"
    },
    "colab": {
      "provenance": [],
      "toc_visible": true,
      "include_colab_link": true
    }
  },
  "nbformat": 4,
  "nbformat_minor": 0
}
